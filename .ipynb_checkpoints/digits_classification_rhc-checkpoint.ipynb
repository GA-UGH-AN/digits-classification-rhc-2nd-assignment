{
 "cells": [
  {
   "cell_type": "code",
   "execution_count": 17,
   "id": "e47a73bf-8733-46c5-87fd-e84daa365b42",
   "metadata": {},
   "outputs": [],
   "source": [
    "import pandas as pd\n",
    "import tensorflow as tf\n",
    "from tensorflow import keras\n",
    "import matplotlib.pyplot as plt\n",
    "import numpy as np"
   ]
  },
  {
   "cell_type": "code",
   "execution_count": 18,
   "id": "069844fd-d820-4d57-adb5-7f41f9328584",
   "metadata": {},
   "outputs": [],
   "source": [
    "(X_train, y_train), (X_test, y_test) = keras.datasets.mnist.load_data()"
   ]
  },
  {
   "cell_type": "code",
   "execution_count": 19,
   "id": "a9903a51-df19-4a21-89c4-d1dcbb00c363",
   "metadata": {},
   "outputs": [
    {
     "data": {
      "text/plain": [
       "60000"
      ]
     },
     "execution_count": 19,
     "metadata": {},
     "output_type": "execute_result"
    }
   ],
   "source": [
    "len(X_train)"
   ]
  },
  {
   "cell_type": "code",
   "execution_count": 20,
   "id": "a3594eab-1d4b-41f0-9508-8d6322e0362e",
   "metadata": {},
   "outputs": [
    {
     "data": {
      "text/plain": [
       "10000"
      ]
     },
     "execution_count": 20,
     "metadata": {},
     "output_type": "execute_result"
    }
   ],
   "source": [
    "len(X_test)"
   ]
  },
  {
   "cell_type": "code",
   "execution_count": 21,
   "id": "5c45e45b-b875-4e1b-a2eb-90dedfe565e1",
   "metadata": {},
   "outputs": [
    {
     "data": {
      "text/plain": [
       "(28, 28)"
      ]
     },
     "execution_count": 21,
     "metadata": {},
     "output_type": "execute_result"
    }
   ],
   "source": [
    "X_train[0].shape"
   ]
  },
  {
   "cell_type": "code",
   "execution_count": 22,
   "id": "3df67860-dbbc-414d-8b54-b7815c7be58f",
   "metadata": {},
   "outputs": [
    {
     "data": {
      "text/plain": [
       "<matplotlib.image.AxesImage at 0x143eb2430>"
      ]
     },
     "execution_count": 22,
     "metadata": {},
     "output_type": "execute_result"
    },
    {
     "data": {
      "image/png": "[encoded data removed]",
      "text/plain": [
       "<Figure size 480x480 with 1 Axes>"
      ]
     },
     "metadata": {},
     "output_type": "display_data"
    }
   ],
   "source": [
    "plt.matshow(X_train[0])"
   ]
  },
  {
   "cell_type": "code",
   "execution_count": 23,
   "id": "667f3197-43e2-4fca-bcd8-26fbc74afe7b",
   "metadata": {},
   "outputs": [
    {
     "data": {
      "text/plain": [
       "(60000, 784)"
      ]
     },
     "execution_count": 23,
     "metadata": {},
     "output_type": "execute_result"
    }
   ],
   "source": [
    "X_train_flattened = X_train.reshape(-1, 28 * 28) / 255.0\n",
    "X_test_flattened = X_test.reshape(-1, 28 * 28) / 255.0\n",
    "X_train_flattened.shape"
   ]
  },
  {
   "cell_type": "code",
   "execution_count": 24,
   "id": "2cf895d8-c5c7-4978-bd0c-96b877669a40",
   "metadata": {},
   "outputs": [],
   "source": [
    "from sklearn.preprocessing import OneHotEncoder\n",
    "\n",
    "X_train_flattened = X_train_flattened.astype('float32')\n",
    "X_test_flattened = X_test_flattened.astype('float32')\n",
    "\n",
    "# One-hot encode the labels\n",
    "one_hot_encoder = OneHotEncoder(sparse_output=False)\n",
    "y_train = one_hot_encoder.fit_transform(y_train.reshape(-1, 1))\n",
    "y_test = one_hot_encoder.transform(y_test.reshape(-1, 1))"
   ]
  },
  {
   "cell_type": "code",
   "execution_count": 25,
   "id": "8381161a-68e6-45e8-81d0-553cc931203c",
   "metadata": {},
   "outputs": [
    {
     "name": "stdout",
     "output_type": "stream",
     "text": [
      "float32 float64\n"
     ]
    }
   ],
   "source": [
    "print(X_train_flattened.dtype, y_train.dtype)"
   ]
  },
  {
   "cell_type": "code",
   "execution_count": 26,
   "id": "9b405de1-97ee-4fdd-85d1-779a7c74ef0a",
   "metadata": {},
   "outputs": [
    {
     "data": {
      "text/plain": [
       "60000"
      ]
     },
     "execution_count": 26,
     "metadata": {},
     "output_type": "execute_result"
    }
   ],
   "source": [
    "len(y_train)"
   ]
  },
  {
   "cell_type": "code",
   "execution_count": 27,
   "id": "0c3025cd-8821-4f30-a58a-30b899599036",
   "metadata": {},
   "outputs": [],
   "source": [
    "\n",
    "import tensorflow as tf\n",
    "from tensorflow import keras\n",
    "# from tensorflow.keras.layers import TextVectorization, Embedding, Dense, Dropout, Flatten\n",
    "from tensorflow.keras.models import Sequential\n",
    "from tensorflow.keras.optimizers import Adam\n",
    "from tensorflow.keras.layers import Dense\n",
    "\n",
    "# Define the neural network structure\n",
    "input_size = 28 * 28\n",
    "hidden_layers = (128, 64)\n",
    "output_size = 10\n",
    "\n",
    "def create_model(weights=None):\n",
    "    model = Sequential([\n",
    "        Dense(hidden_layers[0], activation='relu', input_shape=(input_size,)),\n",
    "        Dense(hidden_layers[1], activation='relu'),\n",
    "        Dense(output_size, activation='softmax')\n",
    "    ])\n",
    "    if weights is not None:\n",
    "        model.set_weights(weights)\n",
    "    model.compile(optimizer='adam', loss='categorical_crossentropy', metrics=['accuracy'])\n",
    "    return model"
   ]
  },
  {
   "cell_type": "code",
   "execution_count": 28,
   "id": "ed273ed8-2b8e-4bd6-b118-5a658a7c9d69",
   "metadata": {},
   "outputs": [],
   "source": [
    "import mlrose_hiive\n",
    "from sklearn.metrics import accuracy_score\n",
    "\n",
    "# Define a fitness function to optimize the neural network weights\n",
    "def fitness_function(weights):\n",
    "    model = create_model()\n",
    "    initial_weights = model.get_weights()\n",
    "    \n",
    "    weights = []\n",
    "    start = 0\n",
    "    for w in initial_weights:\n",
    "        size = np.prod(w.shape)\n",
    "        weights.append(flat_weights[start:start + size].reshape(w.shape))\n",
    "        start += size\n",
    "    \n",
    "    # Create and compile the model with the reshaped weights\n",
    "    model.set_weights(weights)\n",
    "    model.fit(X_train_flattened, y_train, epochs=1, batch_size=128, verbose=0)\n",
    "    y_pred = model.predict(X_train_flattened)\n",
    "    accuracy = accuracy_score(np.argmax(y_train, axis=1), np.argmax(y_pred, axis=1))\n",
    "    return -accuracy"
   ]
  },
  {
   "cell_type": "code",
   "execution_count": 29,
   "id": "0a5b2773-8a90-43a4-af49-999498c89d2b",
   "metadata": {},
   "outputs": [
    {
     "data": {
      "text/plain": [
       "[array([[ 5.3172223e-02, -2.0935219e-02,  5.5105977e-02, ...,\n",
       "         -5.3423077e-02,  6.3048713e-02, -3.5057765e-02],\n",
       "        [-5.7684794e-02,  2.0216629e-02, -4.0165938e-02, ...,\n",
       "         -7.5992309e-02, -3.8785841e-02,  5.1488005e-02],\n",
       "        [ 4.3793686e-02,  6.6265292e-02,  5.2603483e-03, ...,\n",
       "         -6.7466877e-02, -4.5901537e-04, -3.8776502e-02],\n",
       "        ...,\n",
       "        [-1.4324807e-02, -5.0082427e-02, -4.2325195e-02, ...,\n",
       "          5.1171333e-04, -5.1950291e-02, -5.9500337e-05],\n",
       "        [-6.7797750e-03,  3.8256943e-03,  3.2169066e-02, ...,\n",
       "          3.0164786e-02,  4.7211640e-02, -1.1699863e-02],\n",
       "        [-3.8084306e-02, -3.6078114e-02,  7.4152611e-02, ...,\n",
       "          1.9328609e-02,  5.1758908e-02, -1.9588828e-02]], dtype=float32),\n",
       " array([0., 0., 0., 0., 0., 0., 0., 0., 0., 0., 0., 0., 0., 0., 0., 0., 0.,\n",
       "        0., 0., 0., 0., 0., 0., 0., 0., 0., 0., 0., 0., 0., 0., 0., 0., 0.,\n",
       "        0., 0., 0., 0., 0., 0., 0., 0., 0., 0., 0., 0., 0., 0., 0., 0., 0.,\n",
       "        0., 0., 0., 0., 0., 0., 0., 0., 0., 0., 0., 0., 0., 0., 0., 0., 0.,\n",
       "        0., 0., 0., 0., 0., 0., 0., 0., 0., 0., 0., 0., 0., 0., 0., 0., 0.,\n",
       "        0., 0., 0., 0., 0., 0., 0., 0., 0., 0., 0., 0., 0., 0., 0., 0., 0.,\n",
       "        0., 0., 0., 0., 0., 0., 0., 0., 0., 0., 0., 0., 0., 0., 0., 0., 0.,\n",
       "        0., 0., 0., 0., 0., 0., 0., 0., 0.], dtype=float32),\n",
       " array([[ 0.10672505, -0.01731633, -0.1276059 , ...,  0.0129441 ,\n",
       "          0.1372421 ,  0.13158266],\n",
       "        [ 0.03902654, -0.17615312, -0.11195961, ..., -0.08536195,\n",
       "         -0.01032311, -0.03889003],\n",
       "        [-0.12401997,  0.03935693,  0.03907497, ..., -0.03410518,\n",
       "         -0.09127073,  0.05719471],\n",
       "        ...,\n",
       "        [ 0.15569012,  0.10057558, -0.07994351, ..., -0.05567674,\n",
       "          0.09435235, -0.00206287],\n",
       "        [-0.16844186,  0.08809163, -0.11744379, ...,  0.04218516,\n",
       "          0.10843419,  0.04363286],\n",
       "        [ 0.08271192, -0.12600836, -0.04416551, ..., -0.03074828,\n",
       "         -0.10915869, -0.12148727]], dtype=float32),\n",
       " array([0., 0., 0., 0., 0., 0., 0., 0., 0., 0., 0., 0., 0., 0., 0., 0., 0.,\n",
       "        0., 0., 0., 0., 0., 0., 0., 0., 0., 0., 0., 0., 0., 0., 0., 0., 0.,\n",
       "        0., 0., 0., 0., 0., 0., 0., 0., 0., 0., 0., 0., 0., 0., 0., 0., 0.,\n",
       "        0., 0., 0., 0., 0., 0., 0., 0., 0., 0., 0., 0., 0.], dtype=float32),\n",
       " array([[-1.70980722e-01, -3.67245078e-03,  1.66168809e-01,\n",
       "          2.41761535e-01,  1.77895427e-01, -1.38318211e-01,\n",
       "         -1.16886854e-01, -9.81225222e-02, -9.09989774e-02,\n",
       "          1.12178892e-01],\n",
       "        [-2.18968093e-02, -7.42530525e-02,  7.79455304e-02,\n",
       "         -4.77596223e-02, -2.57478178e-01, -1.73313916e-02,\n",
       "          1.69929266e-01,  2.80805677e-01, -7.88169652e-02,\n",
       "         -2.54912257e-01],\n",
       "        [ 1.28006727e-01, -2.63415843e-01, -4.60728556e-02,\n",
       "          2.63989538e-01, -9.23158973e-02,  8.93796980e-02,\n",
       "         -2.66840696e-01,  2.79807597e-01,  2.51074523e-01,\n",
       "         -1.73733890e-01],\n",
       "        [-1.96343541e-01,  7.83572793e-02,  2.20894784e-01,\n",
       "          9.10510421e-02, -1.76399425e-01, -1.15212768e-01,\n",
       "         -2.35096991e-01,  1.76124603e-01, -2.37192720e-01,\n",
       "         -1.64503291e-01],\n",
       "        [-2.80985117e-01, -4.83510047e-02, -2.74116158e-01,\n",
       "         -2.38489509e-02, -3.54615897e-02,  2.82312304e-01,\n",
       "         -6.64476454e-02,  1.79069906e-01, -1.57565981e-01,\n",
       "         -7.99188018e-02],\n",
       "        [ 1.47752821e-01,  7.93179274e-02,  1.67491555e-01,\n",
       "          4.36002016e-02, -1.17059022e-01,  7.08812773e-02,\n",
       "          1.67240024e-01,  2.04605490e-01, -1.97998405e-01,\n",
       "          2.22601861e-01],\n",
       "        [-2.19163895e-01,  2.82231063e-01, -2.45847404e-02,\n",
       "          2.24819869e-01, -1.31498680e-01, -1.47906661e-01,\n",
       "          1.74095958e-01, -1.24492869e-01, -1.02599263e-02,\n",
       "          3.20832729e-02],\n",
       "        [-7.85235465e-02,  4.70981002e-02, -7.05476105e-02,\n",
       "          2.15166599e-01, -1.51544496e-01, -1.83269665e-01,\n",
       "          1.87082380e-01,  1.49702579e-01,  8.69017541e-02,\n",
       "         -1.02691114e-01],\n",
       "        [ 2.31745392e-01,  2.49160677e-01,  2.48962849e-01,\n",
       "          9.49355960e-02, -1.06517375e-02,  1.61871165e-01,\n",
       "         -1.40494123e-01, -1.56330675e-01,  1.89198285e-01,\n",
       "         -1.41556785e-01],\n",
       "        [ 1.80284798e-01,  2.64664292e-02, -2.79380977e-01,\n",
       "         -6.10123873e-02,  2.38971263e-01,  2.82891303e-01,\n",
       "          1.91985667e-02, -2.76458532e-01,  2.74193436e-01,\n",
       "         -4.64526862e-02],\n",
       "        [ 2.43248075e-01, -2.19058394e-02, -2.42764249e-01,\n",
       "         -1.75846264e-01,  2.76799768e-01,  2.40884036e-01,\n",
       "          1.73378706e-01,  6.70572221e-02,  1.74860984e-01,\n",
       "          9.37265754e-02],\n",
       "        [ 2.42971510e-01,  1.58757299e-01, -1.38979450e-01,\n",
       "         -1.05613321e-01,  1.74032211e-01,  6.69527352e-02,\n",
       "          3.59191000e-02,  1.66764349e-01,  1.68607056e-01,\n",
       "         -1.65284008e-01],\n",
       "        [ 1.00162446e-01, -2.57319331e-01, -2.67149270e-01,\n",
       "          1.68627083e-01, -8.28181505e-02,  1.73231989e-01,\n",
       "          1.13991231e-01, -2.84282088e-01, -1.60818130e-01,\n",
       "         -2.05210388e-01],\n",
       "        [ 2.27239460e-01,  2.02712625e-01,  1.72714531e-01,\n",
       "          2.62103826e-01,  2.30048507e-01, -2.02510297e-01,\n",
       "          9.84725356e-03,  1.84847414e-01,  9.00034010e-02,\n",
       "          2.28707045e-01],\n",
       "        [ 1.32972836e-01, -2.89934576e-02, -2.49475688e-01,\n",
       "          1.59131557e-01,  8.73487294e-02, -1.39342725e-01,\n",
       "         -4.70599532e-03,  2.16837257e-01,  2.65527576e-01,\n",
       "         -1.26227915e-01],\n",
       "        [-2.66596705e-01, -8.25229585e-02,  7.76679516e-02,\n",
       "          2.23672539e-01,  2.37438351e-01,  6.58150017e-02,\n",
       "         -2.05052003e-01,  1.31886750e-01,  1.80183768e-01,\n",
       "          1.49590224e-01],\n",
       "        [ 1.26189083e-01, -2.53923386e-01,  1.05112433e-01,\n",
       "          2.59161860e-01, -1.94311142e-05, -7.32122511e-02,\n",
       "          3.94580066e-02,  2.02532113e-02,  7.31853545e-02,\n",
       "         -1.90700114e-01],\n",
       "        [-2.58997351e-01, -7.63514340e-02, -2.18437433e-01,\n",
       "         -1.17754936e-03,  3.34325135e-02,  1.63441986e-01,\n",
       "         -1.97126359e-01, -1.04475975e-01,  5.69200218e-02,\n",
       "          9.33400691e-02],\n",
       "        [ 4.74748909e-02, -2.26481259e-02,  1.88099414e-01,\n",
       "         -1.55216202e-01, -2.03811809e-01,  2.59521395e-01,\n",
       "         -3.83627415e-03,  4.01371121e-02,  2.02445090e-02,\n",
       "         -2.97972560e-03],\n",
       "        [ 1.90792650e-01,  9.55439508e-02, -1.67607933e-01,\n",
       "          2.46607095e-01,  2.45324701e-01, -1.24744877e-01,\n",
       "          2.27071434e-01,  2.59626240e-01, -8.68851095e-02,\n",
       "          1.76017135e-01],\n",
       "        [-1.20508671e-03,  5.35413325e-02,  1.07951701e-01,\n",
       "         -2.33981848e-01,  1.77736163e-01,  2.80276030e-01,\n",
       "          2.78004199e-01, -1.58022046e-02, -8.85096192e-02,\n",
       "          9.01885331e-02],\n",
       "        [ 7.03906417e-02,  1.02567017e-01,  2.62963504e-01,\n",
       "          1.48343652e-01,  1.76516742e-01, -2.47062027e-01,\n",
       "         -2.50385612e-01,  1.41866297e-01, -1.57187432e-01,\n",
       "         -1.87221617e-01],\n",
       "        [ 9.65446234e-02,  1.13009036e-01, -1.22679278e-01,\n",
       "         -1.11278191e-01, -1.76390260e-01, -6.48022890e-02,\n",
       "          3.35275531e-02,  5.58702052e-02,  1.91799104e-01,\n",
       "          2.67125577e-01],\n",
       "        [ 8.76145065e-02, -2.43431866e-01, -5.18727452e-02,\n",
       "          1.43982053e-01, -1.28850043e-02, -2.74716318e-01,\n",
       "         -1.20039552e-01, -7.65066296e-02, -2.70625442e-01,\n",
       "         -5.74311018e-02],\n",
       "        [ 7.22340941e-02,  7.19127953e-02, -9.09983069e-02,\n",
       "          2.63078421e-01, -2.25353628e-01,  2.22220629e-01,\n",
       "          2.82378346e-01,  1.12399191e-01,  1.15020275e-02,\n",
       "          2.49474734e-01],\n",
       "        [ 7.59521723e-02,  1.45009756e-01, -2.66023040e-01,\n",
       "          1.88760459e-01,  5.70257902e-02,  2.14267969e-02,\n",
       "          2.10672677e-01,  6.26609921e-02, -1.95136189e-01,\n",
       "          2.37773925e-01],\n",
       "        [ 4.42400575e-03,  2.06221610e-01,  1.82855666e-01,\n",
       "          2.19169527e-01,  2.45705545e-02,  1.98619395e-01,\n",
       "         -1.40620396e-01,  2.73600727e-01, -5.19174337e-03,\n",
       "         -1.97244555e-01],\n",
       "        [-2.18233138e-01, -2.40813732e-01, -1.88063115e-01,\n",
       "         -8.05407763e-03, -5.39716035e-02, -4.23912257e-02,\n",
       "         -2.29431510e-01, -2.75477618e-01,  2.47402161e-01,\n",
       "          1.79490268e-01],\n",
       "        [ 1.37933016e-01, -6.45867437e-02,  3.27568948e-02,\n",
       "          7.08898902e-03,  1.66606426e-01, -1.69767886e-01,\n",
       "          1.92704886e-01, -1.71596467e-01, -1.98912531e-01,\n",
       "         -2.29047120e-01],\n",
       "        [-1.02172509e-01,  2.79475302e-01, -2.08540887e-01,\n",
       "          1.88152581e-01,  1.81891322e-01, -1.54852390e-01,\n",
       "          1.66071653e-02, -1.54818580e-01,  5.37359715e-02,\n",
       "         -1.38427168e-01],\n",
       "        [-2.50798315e-01, -1.19597122e-01, -2.44415700e-02,\n",
       "          2.01352179e-01, -1.91526711e-02, -2.84057260e-02,\n",
       "         -2.20517606e-01, -2.28364766e-01, -1.31709337e-01,\n",
       "         -1.35037258e-01],\n",
       "        [-9.65706408e-02, -1.92192867e-01, -1.11303523e-01,\n",
       "         -1.20992094e-01,  1.13364697e-01, -1.65984631e-02,\n",
       "          2.10084230e-01, -9.60516334e-02, -8.05221349e-02,\n",
       "         -1.65946960e-01],\n",
       "        [-1.91276491e-01,  1.34299725e-01,  1.70290023e-01,\n",
       "         -1.61019146e-01, -1.18987545e-01,  2.62986630e-01,\n",
       "          2.21746862e-02,  5.87298274e-02,  9.58470702e-02,\n",
       "         -2.21579403e-01],\n",
       "        [-2.73393750e-01, -7.98288584e-02, -1.06525347e-01,\n",
       "         -2.39501506e-01, -2.59253979e-02, -1.22390881e-01,\n",
       "          2.39018053e-01, -2.18090296e-01, -3.97144258e-02,\n",
       "         -8.93190503e-03],\n",
       "        [ 1.80268705e-01,  1.72223419e-01,  1.10327274e-01,\n",
       "          3.30708027e-02,  1.98234588e-01, -2.64827728e-01,\n",
       "         -1.51094794e-01, -1.83013245e-01,  1.30822957e-02,\n",
       "          9.98395681e-02],\n",
       "        [-1.84466541e-01, -7.17425346e-03,  2.05804825e-01,\n",
       "         -6.19450361e-02, -2.18460709e-01, -8.44039023e-02,\n",
       "          4.14058268e-02, -1.31900385e-01, -1.51977956e-01,\n",
       "         -7.67308474e-03],\n",
       "        [ 1.54204458e-01, -1.23378068e-01,  1.05514348e-01,\n",
       "         -6.17590249e-02,  2.34377354e-01,  2.22909123e-01,\n",
       "         -1.23387367e-01,  1.74184471e-01, -2.26180375e-01,\n",
       "         -1.57836661e-01],\n",
       "        [-7.80766308e-02, -7.83101022e-02,  2.52285302e-02,\n",
       "          2.50544459e-01, -1.87812805e-01,  6.71147406e-02,\n",
       "         -1.51826903e-01, -2.60199457e-01,  1.88897401e-01,\n",
       "         -1.96687326e-01],\n",
       "        [-2.28934765e-01, -1.27775788e-01,  2.49640316e-01,\n",
       "         -1.22104257e-01, -1.22620896e-01,  1.20762229e-01,\n",
       "          5.37646115e-02, -1.42963246e-01,  2.08973140e-01,\n",
       "         -2.45745465e-01],\n",
       "        [ 2.74844974e-01, -1.48464501e-01, -2.11836368e-01,\n",
       "          2.15333998e-02,  1.94470942e-01,  2.46837229e-01,\n",
       "          1.15227491e-01, -1.99036211e-01,  1.93363130e-01,\n",
       "          2.52321810e-01],\n",
       "        [ 2.39293367e-01,  1.28637373e-01, -1.60571158e-01,\n",
       "         -1.73470080e-01, -2.01347917e-01,  7.56815076e-02,\n",
       "          4.00617421e-02, -1.40666157e-01, -1.26433879e-01,\n",
       "          2.54152983e-01],\n",
       "        [ 2.22752064e-01, -2.14992315e-01,  3.82440984e-02,\n",
       "          7.37988949e-03,  2.34865218e-01,  1.99352801e-01,\n",
       "         -1.40464455e-01,  1.39939934e-01,  8.03470612e-02,\n",
       "          1.34500206e-01],\n",
       "        [-1.65403023e-01, -1.98752642e-01,  2.52142161e-01,\n",
       "          3.20932269e-03,  2.43226886e-02, -2.06437021e-01,\n",
       "         -9.46505964e-02, -1.85465813e-03,  1.78305209e-02,\n",
       "          5.13839424e-02],\n",
       "        [ 2.26262003e-01,  3.05569470e-02,  9.80910063e-02,\n",
       "          1.36057436e-01, -2.37360343e-01,  2.19746739e-01,\n",
       "         -2.77460247e-01,  9.65676606e-02, -2.81366527e-01,\n",
       "         -2.03901291e-01],\n",
       "        [ 1.03091866e-01,  1.48505718e-01, -3.91143560e-02,\n",
       "         -2.59505421e-01, -2.22630933e-01, -9.79793370e-02,\n",
       "         -1.29547000e-01,  1.92323267e-01,  2.36934453e-01,\n",
       "         -8.06028545e-02],\n",
       "        [-3.20167542e-02, -4.40749526e-03,  7.00798631e-02,\n",
       "          1.79475546e-01,  1.30109459e-01,  2.17916936e-01,\n",
       "         -2.71381527e-01,  5.44382036e-02,  7.53847063e-02,\n",
       "          1.56844169e-01],\n",
       "        [ 2.25884616e-02, -2.44677663e-02, -7.03879297e-02,\n",
       "         -8.26953351e-02,  1.58558190e-01,  2.15358227e-01,\n",
       "         -1.07236013e-01, -1.96701109e-01, -1.37097836e-01,\n",
       "         -2.19339609e-01],\n",
       "        [-2.28195861e-01, -2.13121101e-01, -2.39226758e-01,\n",
       "         -1.59513712e-01, -7.85589218e-05,  2.20255882e-01,\n",
       "         -2.66173840e-01, -2.38500416e-01, -7.46338516e-02,\n",
       "         -8.15262198e-02],\n",
       "        [ 2.38641500e-02,  2.37948328e-01,  9.98925865e-02,\n",
       "          6.78164959e-02,  1.64487004e-01, -4.68096435e-02,\n",
       "          5.29191196e-02,  2.62214273e-01, -1.17521405e-01,\n",
       "          2.00498700e-01],\n",
       "        [ 2.51306295e-02,  1.88502818e-01, -2.33012587e-01,\n",
       "          3.40436399e-02, -4.87768054e-02,  1.05821878e-01,\n",
       "         -2.53132284e-01, -2.20691681e-01,  6.23509586e-02,\n",
       "          1.24533743e-01],\n",
       "        [-3.69080305e-02,  5.20050526e-05,  2.47514695e-01,\n",
       "         -1.40276596e-01, -7.53682852e-03,  1.83647543e-01,\n",
       "         -2.05017984e-01, -1.76798075e-01,  1.91048324e-01,\n",
       "         -2.09499955e-01],\n",
       "        [ 2.27961332e-01,  6.89095855e-02,  7.54521191e-02,\n",
       "          2.16317683e-01, -2.82315880e-01,  1.86983049e-01,\n",
       "          8.19846690e-02, -1.61072314e-01, -2.58189529e-01,\n",
       "         -6.84218556e-02],\n",
       "        [-5.64246476e-02, -1.78645939e-01,  2.69826144e-01,\n",
       "         -2.26891518e-01,  5.96104860e-02, -1.94700480e-01,\n",
       "         -7.26500005e-02,  1.71615750e-01, -9.18260217e-03,\n",
       "          1.08145654e-01],\n",
       "        [ 1.86636269e-01, -1.94690824e-02,  1.22140795e-01,\n",
       "         -2.42348224e-01, -2.50366330e-01, -4.60669398e-03,\n",
       "         -1.17406264e-01, -3.63934934e-02, -1.60279512e-01,\n",
       "          2.72358567e-01],\n",
       "        [ 2.24558383e-01, -6.12783730e-02, -1.81800127e-01,\n",
       "          1.66368484e-03,  2.33668119e-01, -2.75753438e-01,\n",
       "          1.55844867e-01, -1.82467893e-01,  2.35931426e-01,\n",
       "          2.20684022e-01],\n",
       "        [-2.50450313e-01, -1.41391680e-01,  1.50629282e-01,\n",
       "         -1.39041021e-01, -1.73051208e-01, -3.11800838e-02,\n",
       "          2.77798772e-02, -2.10510358e-01,  1.55146420e-01,\n",
       "          6.77492917e-02],\n",
       "        [-2.16868103e-01, -2.07045019e-01, -4.76765931e-02,\n",
       "          2.52573192e-02,  2.42921621e-01,  2.80016333e-01,\n",
       "         -1.55068547e-01, -1.26422271e-01,  9.48459804e-02,\n",
       "          7.40188360e-03],\n",
       "        [-1.82019204e-01,  2.07442850e-01,  2.15601951e-01,\n",
       "         -2.47523680e-01, -2.01935023e-01,  1.64682984e-01,\n",
       "         -1.22013360e-01, -2.00434461e-01,  4.27263379e-02,\n",
       "         -5.00895679e-02],\n",
       "        [-1.97014689e-01, -9.40524936e-02,  1.66410357e-01,\n",
       "          1.18071169e-01,  2.69110590e-01,  1.89358354e-01,\n",
       "          6.76362514e-02, -1.15825951e-01,  1.33006275e-02,\n",
       "         -2.10309058e-01],\n",
       "        [-1.11420080e-01,  2.36618906e-01,  2.60225862e-01,\n",
       "          1.43040150e-01,  2.27388114e-01,  2.79120177e-01,\n",
       "          1.13051057e-01,  1.60689563e-01,  2.76875168e-01,\n",
       "          2.52424270e-01],\n",
       "        [ 1.00499928e-01,  1.05090708e-01,  1.25214458e-01,\n",
       "         -2.22659111e-02, -5.87505251e-02, -2.53731519e-01,\n",
       "         -7.98952579e-03,  2.08566904e-01, -2.76922435e-01,\n",
       "         -1.89010769e-01],\n",
       "        [-1.68058574e-01,  2.79531211e-01,  2.52843112e-01,\n",
       "         -4.49422300e-02, -1.34010375e-01, -1.17926374e-01,\n",
       "          2.19925433e-01,  2.43805379e-01,  1.90511107e-01,\n",
       "          2.18470395e-02],\n",
       "        [-1.26869872e-01,  1.09629929e-01, -7.51132071e-02,\n",
       "         -9.14995223e-02,  1.12343043e-01, -1.65980756e-02,\n",
       "          1.96622908e-01,  1.24517441e-01, -5.53544313e-02,\n",
       "         -6.52014017e-02],\n",
       "        [ 2.11327523e-01, -1.05468243e-01, -9.39068198e-03,\n",
       "         -5.20887077e-02, -2.00362295e-01,  1.15261167e-01,\n",
       "         -1.00079075e-01, -2.70155191e-01, -2.32290596e-01,\n",
       "         -1.59615830e-01]], dtype=float32),\n",
       " array([0., 0., 0., 0., 0., 0., 0., 0., 0., 0.], dtype=float32)]"
      ]
     },
     "execution_count": 29,
     "metadata": {},
     "output_type": "execute_result"
    }
   ],
   "source": [
    "# Initialize the weights with a random guess\n",
    "model = create_model()\n",
    "initial_weights = model.get_weights()\n",
    "initial_weights"
   ]
  },
  {
   "cell_type": "code",
   "execution_count": 30,
   "id": "6ca23f24-27f7-49bf-a569-86162d1137ba",
   "metadata": {},
   "outputs": [
    {
     "data": {
      "text/plain": [
       "array([ 0.05317222, -0.02093522,  0.05510598, ...,  0.        ,\n",
       "        0.        ,  0.        ], dtype=float32)"
      ]
     },
     "execution_count": 30,
     "metadata": {},
     "output_type": "execute_result"
    }
   ],
   "source": [
    "# Flatten the weights for the optimization algorithm\n",
    "flat_weights = np.concatenate([w.flatten() for w in initial_weights])\n",
    "flat_weights"
   ]
  },
  {
   "cell_type": "code",
   "execution_count": 31,
   "id": "809848ff-d4e3-47f9-8dae-9eb8d5a0c5aa",
   "metadata": {},
   "outputs": [],
   "source": [
    "# Define the optimization problem\n",
    "problem = mlrose_hiive.ContinuousOpt(length=flat_weights.size, fitness_fn=mlrose_hiive.CustomFitness(fitness_function), maximize=False, min_val=-1, max_val=1)"
   ]
  },
  {
   "cell_type": "code",
   "execution_count": 32,
   "id": "c656fd64-40f3-49a5-bac2-0d92ba6423b0",
   "metadata": {},
   "outputs": [
    {
     "name": "stdout",
     "output_type": "stream",
     "text": [
      "\u001b[1m1875/1875\u001b[0m \u001b[32m━━━━━━━━━━━━━━━━━━━━\u001b[0m\u001b[37m\u001b[0m \u001b[1m1s\u001b[0m 749us/step\n",
      "\u001b[1m1875/1875\u001b[0m \u001b[32m━━━━━━━━━━━━━━━━━━━━\u001b[0m\u001b[37m\u001b[0m \u001b[1m1s\u001b[0m 712us/step\n",
      "\u001b[1m1875/1875\u001b[0m \u001b[32m━━━━━━━━━━━━━━━━━━━━\u001b[0m\u001b[37m\u001b[0m \u001b[1m2s\u001b[0m 807us/step\n",
      "\u001b[1m1875/1875\u001b[0m \u001b[32m━━━━━━━━━━━━━━━━━━━━\u001b[0m\u001b[37m\u001b[0m \u001b[1m1s\u001b[0m 766us/step\n",
      "\u001b[1m1875/1875\u001b[0m \u001b[32m━━━━━━━━━━━━━━━━━━━━\u001b[0m\u001b[37m\u001b[0m \u001b[1m1s\u001b[0m 684us/step\n",
      "\u001b[1m1875/1875\u001b[0m \u001b[32m━━━━━━━━━━━━━━━━━━━━\u001b[0m\u001b[37m\u001b[0m \u001b[1m1s\u001b[0m 716us/step\n",
      "\u001b[1m1875/1875\u001b[0m \u001b[32m━━━━━━━━━━━━━━━━━━━━\u001b[0m\u001b[37m\u001b[0m \u001b[1m1s\u001b[0m 684us/step\n",
      "\u001b[1m1875/1875\u001b[0m \u001b[32m━━━━━━━━━━━━━━━━━━━━\u001b[0m\u001b[37m\u001b[0m \u001b[1m1s\u001b[0m 702us/step\n",
      "\u001b[1m1875/1875\u001b[0m \u001b[32m━━━━━━━━━━━━━━━━━━━━\u001b[0m\u001b[37m\u001b[0m \u001b[1m1s\u001b[0m 692us/step\n",
      "\u001b[1m1875/1875\u001b[0m \u001b[32m━━━━━━━━━━━━━━━━━━━━\u001b[0m\u001b[37m\u001b[0m \u001b[1m1s\u001b[0m 697us/step\n",
      "\u001b[1m1875/1875\u001b[0m \u001b[32m━━━━━━━━━━━━━━━━━━━━\u001b[0m\u001b[37m\u001b[0m \u001b[1m1s\u001b[0m 688us/step\n",
      "\u001b[1m1875/1875\u001b[0m \u001b[32m━━━━━━━━━━━━━━━━━━━━\u001b[0m\u001b[37m\u001b[0m \u001b[1m1s\u001b[0m 729us/step\n",
      "\u001b[1m1875/1875\u001b[0m \u001b[32m━━━━━━━━━━━━━━━━━━━━\u001b[0m\u001b[37m\u001b[0m \u001b[1m1s\u001b[0m 724us/step\n",
      "\u001b[1m1875/1875\u001b[0m \u001b[32m━━━━━━━━━━━━━━━━━━━━\u001b[0m\u001b[37m\u001b[0m \u001b[1m1s\u001b[0m 735us/step\n",
      "\u001b[1m1875/1875\u001b[0m \u001b[32m━━━━━━━━━━━━━━━━━━━━\u001b[0m\u001b[37m\u001b[0m \u001b[1m1s\u001b[0m 681us/step\n",
      "\u001b[1m1875/1875\u001b[0m \u001b[32m━━━━━━━━━━━━━━━━━━━━\u001b[0m\u001b[37m\u001b[0m \u001b[1m1s\u001b[0m 696us/step\n",
      "\u001b[1m1875/1875\u001b[0m \u001b[32m━━━━━━━━━━━━━━━━━━━━\u001b[0m\u001b[37m\u001b[0m \u001b[1m1s\u001b[0m 689us/step\n",
      "\u001b[1m1875/1875\u001b[0m \u001b[32m━━━━━━━━━━━━━━━━━━━━\u001b[0m\u001b[37m\u001b[0m \u001b[1m1s\u001b[0m 694us/step\n",
      "\u001b[1m1875/1875\u001b[0m \u001b[32m━━━━━━━━━━━━━━━━━━━━\u001b[0m\u001b[37m\u001b[0m \u001b[1m1s\u001b[0m 684us/step\n",
      "\u001b[1m1875/1875\u001b[0m \u001b[32m━━━━━━━━━━━━━━━━━━━━\u001b[0m\u001b[37m\u001b[0m \u001b[1m1s\u001b[0m 692us/step\n",
      "\u001b[1m1875/1875\u001b[0m \u001b[32m━━━━━━━━━━━━━━━━━━━━\u001b[0m\u001b[37m\u001b[0m \u001b[1m1s\u001b[0m 699us/step\n",
      "\u001b[1m1875/1875\u001b[0m \u001b[32m━━━━━━━━━━━━━━━━━━━━\u001b[0m\u001b[37m\u001b[0m \u001b[1m1s\u001b[0m 711us/step\n",
      "\u001b[1m1875/1875\u001b[0m \u001b[32m━━━━━━━━━━━━━━━━━━━━\u001b[0m\u001b[37m\u001b[0m \u001b[1m1s\u001b[0m 693us/step\n",
      "\u001b[1m1875/1875\u001b[0m \u001b[32m━━━━━━━━━━━━━━━━━━━━\u001b[0m\u001b[37m\u001b[0m \u001b[1m1s\u001b[0m 694us/step\n",
      "\u001b[1m1875/1875\u001b[0m \u001b[32m━━━━━━━━━━━━━━━━━━━━\u001b[0m\u001b[37m\u001b[0m \u001b[1m1s\u001b[0m 728us/step\n",
      "\u001b[1m1875/1875\u001b[0m \u001b[32m━━━━━━━━━━━━━━━━━━━━\u001b[0m\u001b[37m\u001b[0m \u001b[1m1s\u001b[0m 737us/step\n",
      "\u001b[1m1875/1875\u001b[0m \u001b[32m━━━━━━━━━━━━━━━━━━━━\u001b[0m\u001b[37m\u001b[0m \u001b[1m1s\u001b[0m 720us/step\n",
      "\u001b[1m1875/1875\u001b[0m \u001b[32m━━━━━━━━━━━━━━━━━━━━\u001b[0m\u001b[37m\u001b[0m \u001b[1m1s\u001b[0m 698us/step\n",
      "\u001b[1m1875/1875\u001b[0m \u001b[32m━━━━━━━━━━━━━━━━━━━━\u001b[0m\u001b[37m\u001b[0m \u001b[1m1s\u001b[0m 700us/step\n",
      "\u001b[1m1875/1875\u001b[0m \u001b[32m━━━━━━━━━━━━━━━━━━━━\u001b[0m\u001b[37m\u001b[0m \u001b[1m1s\u001b[0m 702us/step\n",
      "\u001b[1m1875/1875\u001b[0m \u001b[32m━━━━━━━━━━━━━━━━━━━━\u001b[0m\u001b[37m\u001b[0m \u001b[1m1s\u001b[0m 703us/step\n",
      "\u001b[1m1875/1875\u001b[0m \u001b[32m━━━━━━━━━━━━━━━━━━━━\u001b[0m\u001b[37m\u001b[0m \u001b[1m1s\u001b[0m 719us/step\n",
      "\u001b[1m1875/1875\u001b[0m \u001b[32m━━━━━━━━━━━━━━━━━━━━\u001b[0m\u001b[37m\u001b[0m \u001b[1m1s\u001b[0m 710us/step\n",
      "\u001b[1m1875/1875\u001b[0m \u001b[32m━━━━━━━━━━━━━━━━━━━━\u001b[0m\u001b[37m\u001b[0m \u001b[1m1s\u001b[0m 766us/step\n"
     ]
    }
   ],
   "source": [
    "# Perform randomized hill climbing optimization\n",
    "best_state, best_fitness, _ = mlrose_hiive.random_hill_climb(problem, max_attempts=10, max_iters=30, random_state=42)"
   ]
  },
  {
   "cell_type": "code",
   "execution_count": 33,
   "id": "b9488a90-5ba7-4c4f-9bf6-7ba7ac15f804",
   "metadata": {},
   "outputs": [],
   "source": [
    "# Reshape the optimized weights\n",
    "start = 0\n",
    "optimized_weights = []\n",
    "for w in initial_weights:\n",
    "    end = start + w.size\n",
    "    optimized_weights.append(best_state[start:end].reshape(w.shape))\n",
    "    start = end"
   ]
  },
  {
   "cell_type": "code",
   "execution_count": 36,
   "id": "c9907b68-9578-4067-bd34-b377fcbd3f10",
   "metadata": {},
   "outputs": [
    {
     "name": "stdout",
     "output_type": "stream",
     "text": [
      "Epoch 1/30\n",
      "\u001b[1m469/469\u001b[0m \u001b[32m━━━━━━━━━━━━━━━━━━━━\u001b[0m\u001b[37m\u001b[0m \u001b[1m1s\u001b[0m 2ms/step - accuracy: 0.4949 - loss: 27.1468\n",
      "Epoch 2/30\n",
      "\u001b[1m469/469\u001b[0m \u001b[32m━━━━━━━━━━━━━━━━━━━━\u001b[0m\u001b[37m\u001b[0m \u001b[1m1s\u001b[0m 2ms/step - accuracy: 0.8397 - loss: 2.8019\n",
      "Epoch 3/30\n",
      "\u001b[1m469/469\u001b[0m \u001b[32m━━━━━━━━━━━━━━━━━━━━\u001b[0m\u001b[37m\u001b[0m \u001b[1m1s\u001b[0m 2ms/step - accuracy: 0.8800 - loss: 1.6063\n",
      "Epoch 4/30\n",
      "\u001b[1m469/469\u001b[0m \u001b[32m━━━━━━━━━━━━━━━━━━━━\u001b[0m\u001b[37m\u001b[0m \u001b[1m1s\u001b[0m 2ms/step - accuracy: 0.9022 - loss: 1.0820\n",
      "Epoch 5/30\n",
      "\u001b[1m469/469\u001b[0m \u001b[32m━━━━━━━━━━━━━━━━━━━━\u001b[0m\u001b[37m\u001b[0m \u001b[1m1s\u001b[0m 2ms/step - accuracy: 0.9162 - loss: 0.8183\n",
      "Epoch 6/30\n",
      "\u001b[1m469/469\u001b[0m \u001b[32m━━━━━━━━━━━━━━━━━━━━\u001b[0m\u001b[37m\u001b[0m \u001b[1m1s\u001b[0m 2ms/step - accuracy: 0.9263 - loss: 0.6354\n",
      "Epoch 7/30\n",
      "\u001b[1m469/469\u001b[0m \u001b[32m━━━━━━━━━━━━━━━━━━━━\u001b[0m\u001b[37m\u001b[0m \u001b[1m1s\u001b[0m 2ms/step - accuracy: 0.9358 - loss: 0.4703\n",
      "Epoch 8/30\n",
      "\u001b[1m469/469\u001b[0m \u001b[32m━━━━━━━━━━━━━━━━━━━━\u001b[0m\u001b[37m\u001b[0m \u001b[1m1s\u001b[0m 2ms/step - accuracy: 0.9437 - loss: 0.3830\n",
      "Epoch 9/30\n",
      "\u001b[1m469/469\u001b[0m \u001b[32m━━━━━━━━━━━━━━━━━━━━\u001b[0m\u001b[37m\u001b[0m \u001b[1m1s\u001b[0m 2ms/step - accuracy: 0.9506 - loss: 0.3046\n",
      "Epoch 10/30\n",
      "\u001b[1m469/469\u001b[0m \u001b[32m━━━━━━━━━━━━━━━━━━━━\u001b[0m\u001b[37m\u001b[0m \u001b[1m1s\u001b[0m 2ms/step - accuracy: 0.9544 - loss: 0.2565\n",
      "Epoch 11/30\n",
      "\u001b[1m469/469\u001b[0m \u001b[32m━━━━━━━━━━━━━━━━━━━━\u001b[0m\u001b[37m\u001b[0m \u001b[1m1s\u001b[0m 2ms/step - accuracy: 0.9597 - loss: 0.2106\n",
      "Epoch 12/30\n",
      "\u001b[1m469/469\u001b[0m \u001b[32m━━━━━━━━━━━━━━━━━━━━\u001b[0m\u001b[37m\u001b[0m \u001b[1m1s\u001b[0m 2ms/step - accuracy: 0.9655 - loss: 0.1734\n",
      "Epoch 13/30\n",
      "\u001b[1m469/469\u001b[0m \u001b[32m━━━━━━━━━━━━━━━━━━━━\u001b[0m\u001b[37m\u001b[0m \u001b[1m1s\u001b[0m 2ms/step - accuracy: 0.9710 - loss: 0.1382\n",
      "Epoch 14/30\n",
      "\u001b[1m469/469\u001b[0m \u001b[32m━━━━━━━━━━━━━━━━━━━━\u001b[0m\u001b[37m\u001b[0m \u001b[1m1s\u001b[0m 2ms/step - accuracy: 0.9745 - loss: 0.1181\n",
      "Epoch 15/30\n",
      "\u001b[1m469/469\u001b[0m \u001b[32m━━━━━━━━━━━━━━━━━━━━\u001b[0m\u001b[37m\u001b[0m \u001b[1m1s\u001b[0m 2ms/step - accuracy: 0.9765 - loss: 0.1019\n",
      "Epoch 16/30\n",
      "\u001b[1m469/469\u001b[0m \u001b[32m━━━━━━━━━━━━━━━━━━━━\u001b[0m\u001b[37m\u001b[0m \u001b[1m1s\u001b[0m 2ms/step - accuracy: 0.9801 - loss: 0.0828\n",
      "Epoch 17/30\n",
      "\u001b[1m469/469\u001b[0m \u001b[32m━━━━━━━━━━━━━━━━━━━━\u001b[0m\u001b[37m\u001b[0m \u001b[1m1s\u001b[0m 2ms/step - accuracy: 0.9809 - loss: 0.0714\n",
      "Epoch 18/30\n",
      "\u001b[1m469/469\u001b[0m \u001b[32m━━━━━━━━━━━━━━━━━━━━\u001b[0m\u001b[37m\u001b[0m \u001b[1m1s\u001b[0m 2ms/step - accuracy: 0.9841 - loss: 0.0588\n",
      "Epoch 19/30\n",
      "\u001b[1m469/469\u001b[0m \u001b[32m━━━━━━━━━━━━━━━━━━━━\u001b[0m\u001b[37m\u001b[0m \u001b[1m1s\u001b[0m 2ms/step - accuracy: 0.9864 - loss: 0.0517\n",
      "Epoch 20/30\n",
      "\u001b[1m469/469\u001b[0m \u001b[32m━━━━━━━━━━━━━━━━━━━━\u001b[0m\u001b[37m\u001b[0m \u001b[1m1s\u001b[0m 2ms/step - accuracy: 0.9880 - loss: 0.0436\n",
      "Epoch 21/30\n",
      "\u001b[1m469/469\u001b[0m \u001b[32m━━━━━━━━━━━━━━━━━━━━\u001b[0m\u001b[37m\u001b[0m \u001b[1m1s\u001b[0m 2ms/step - accuracy: 0.9907 - loss: 0.0359\n",
      "Epoch 22/30\n",
      "\u001b[1m469/469\u001b[0m \u001b[32m━━━━━━━━━━━━━━━━━━━━\u001b[0m\u001b[37m\u001b[0m \u001b[1m1s\u001b[0m 2ms/step - accuracy: 0.9913 - loss: 0.0294\n",
      "Epoch 23/30\n",
      "\u001b[1m469/469\u001b[0m \u001b[32m━━━━━━━━━━━━━━━━━━━━\u001b[0m\u001b[37m\u001b[0m \u001b[1m1s\u001b[0m 2ms/step - accuracy: 0.9928 - loss: 0.0235\n",
      "Epoch 24/30\n",
      "\u001b[1m469/469\u001b[0m \u001b[32m━━━━━━━━━━━━━━━━━━━━\u001b[0m\u001b[37m\u001b[0m \u001b[1m1s\u001b[0m 2ms/step - accuracy: 0.9927 - loss: 0.0239\n",
      "Epoch 25/30\n",
      "\u001b[1m469/469\u001b[0m \u001b[32m━━━━━━━━━━━━━━━━━━━━\u001b[0m\u001b[37m\u001b[0m \u001b[1m1s\u001b[0m 2ms/step - accuracy: 0.9947 - loss: 0.0191\n",
      "Epoch 26/30\n",
      "\u001b[1m469/469\u001b[0m \u001b[32m━━━━━━━━━━━━━━━━━━━━\u001b[0m\u001b[37m\u001b[0m \u001b[1m1s\u001b[0m 2ms/step - accuracy: 0.9958 - loss: 0.0144\n",
      "Epoch 27/30\n",
      "\u001b[1m469/469\u001b[0m \u001b[32m━━━━━━━━━━━━━━━━━━━━\u001b[0m\u001b[37m\u001b[0m \u001b[1m1s\u001b[0m 2ms/step - accuracy: 0.9966 - loss: 0.0121\n",
      "Epoch 28/30\n",
      "\u001b[1m469/469\u001b[0m \u001b[32m━━━━━━━━━━━━━━━━━━━━\u001b[0m\u001b[37m\u001b[0m \u001b[1m1s\u001b[0m 2ms/step - accuracy: 0.9953 - loss: 0.0153\n",
      "Epoch 29/30\n",
      "\u001b[1m469/469\u001b[0m \u001b[32m━━━━━━━━━━━━━━━━━━━━\u001b[0m\u001b[37m\u001b[0m \u001b[1m1s\u001b[0m 2ms/step - accuracy: 0.9946 - loss: 0.0158\n",
      "Epoch 30/30\n",
      "\u001b[1m469/469\u001b[0m \u001b[32m━━━━━━━━━━━━━━━━━━━━\u001b[0m\u001b[37m\u001b[0m \u001b[1m1s\u001b[0m 2ms/step - accuracy: 0.9974 - loss: 0.0084\n",
      "Optimized Training Accuracy: 0.9985\n",
      "Optimized Testing Accuracy: 0.9525\n"
     ]
    }
   ],
   "source": [
    "# Create and compile the model with the optimized weights\n",
    "model_optimized = create_model(optimized_weights)\n",
    "model_optimized.fit(X_train_flattened, y_train, epochs=30, batch_size=128, verbose=1)\n",
    "\n",
    "# Evaluate the optimized model\n",
    "train_loss, train_accuracy = model_optimized.evaluate(X_train_flattened, y_train, verbose=0)\n",
    "test_loss, test_accuracy = model_optimized.evaluate(X_test_flattened, y_test, verbose=0)\n",
    "\n",
    "print(f'Optimized Training Accuracy: {train_accuracy:.4f}')\n",
    "print(f'Optimized Testing Accuracy: {test_accuracy:.4f}')"
   ]
  },
  {
   "cell_type": "code",
   "execution_count": 37,
   "id": "10e0d10a-ed7a-4635-a4d8-7dd889f484e0",
   "metadata": {},
   "outputs": [
    {
     "name": "stdout",
     "output_type": "stream",
     "text": [
      "\u001b[1m313/313\u001b[0m \u001b[32m━━━━━━━━━━━━━━━━━━━━\u001b[0m\u001b[37m\u001b[0m \u001b[1m0s\u001b[0m 822us/step\n"
     ]
    }
   ],
   "source": [
    "# Generate predictions for the test set\n",
    "y_pred_test_optimized = model_optimized.predict(X_test_flattened)\n",
    "y_pred_test_optimized_labels = np.argmax(y_pred_test_optimized, axis=1)\n",
    "y_test_labels = np.argmax(y_test, axis=1)"
   ]
  },
  {
   "cell_type": "code",
   "execution_count": 38,
   "id": "b24cbf35-3199-4ae9-a278-3ffa022bfd04",
   "metadata": {},
   "outputs": [
    {
     "name": "stdout",
     "output_type": "stream",
     "text": [
      "Classification Report:\n",
      "              precision    recall  f1-score   support\n",
      "\n",
      "           0       0.95      0.98      0.97       980\n",
      "           1       0.98      0.98      0.98      1135\n",
      "           2       0.94      0.95      0.94      1032\n",
      "           3       0.94      0.93      0.94      1010\n",
      "           4       0.95      0.96      0.96       982\n",
      "           5       0.94      0.94      0.94       892\n",
      "           6       0.97      0.96      0.97       958\n",
      "           7       0.94      0.95      0.95      1028\n",
      "           8       0.94      0.94      0.94       974\n",
      "           9       0.96      0.93      0.94      1009\n",
      "\n",
      "    accuracy                           0.95     10000\n",
      "   macro avg       0.95      0.95      0.95     10000\n",
      "weighted avg       0.95      0.95      0.95     10000\n",
      "\n"
     ]
    },
    {
     "data": {
      "image/png": "[encoded data removed]",
      "text/plain": [
       "<Figure size 1000x700 with 2 Axes>"
      ]
     },
     "metadata": {},
     "output_type": "display_data"
    }
   ],
   "source": [
    "from sklearn.metrics import classification_report, confusion_matrix\n",
    "import seaborn as sns\n",
    "import matplotlib.pyplot as plt\n",
    "\n",
    "# Generate classification report\n",
    "print(\"Classification Report:\")\n",
    "print(classification_report(y_test_labels, y_pred_test_optimized_labels))\n",
    "\n",
    "# Generate confusion matrix\n",
    "conf_matrix_optimized = confusion_matrix(y_test_labels, y_pred_test_optimized_labels)\n",
    "plt.figure(figsize=(10, 7))\n",
    "sns.heatmap(conf_matrix_optimized, annot=True, fmt='d', cmap='Blues')\n",
    "plt.xlabel('Predicted')\n",
    "plt.ylabel('True')\n",
    "plt.title('Optimized Confusion Matrix')\n",
    "plt.show()"
   ]
  },
  {
   "cell_type": "code",
   "execution_count": null,
   "id": "0c30c5cf-5be5-45ca-b91b-b5ccd954a7cf",
   "metadata": {},
   "outputs": [],
   "source": []
  }
 ],
 "metadata": {
  "kernelspec": {
   "display_name": "Python 3 (ipykernel)",
   "language": "python",
   "name": "python3"
  },
  "language_info": {
   "codemirror_mode": {
    "name": "ipython",
    "version": 3
   },
   "file_extension": ".py",
   "mimetype": "text/x-python",
   "name": "python",
   "nbconvert_exporter": "python",
   "pygments_lexer": "ipython3",
   "version": "3.9.19"
  }
 },
 "nbformat": 4,
 "nbformat_minor": 5
}
